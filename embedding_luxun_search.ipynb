{
 "cells": [
  {
   "cell_type": "code",
   "execution_count": 1,
   "id": "11a6b458-771c-4602-8cd4-c7861dbb61d6",
   "metadata": {
    "ExecutionIndicator": {
     "show": true
    },
    "scrolled": true,
    "tags": []
   },
   "outputs": [
    {
     "name": "stdout",
     "output_type": "stream",
     "text": [
      "Looking in indexes: https://mirrors.cloud.aliyuncs.com/pypi/simple\n",
      "Requirement already satisfied: milvus==2.3.3 in /opt/conda/lib/python3.8/site-packages (2.3.3)\n",
      "Requirement already satisfied: pymilvus==2.3.3 in /opt/conda/lib/python3.8/site-packages (2.3.3)\n",
      "Requirement already satisfied: sentence-transformers in /opt/conda/lib/python3.8/site-packages (2.2.2)\n",
      "Requirement already satisfied: grpcio<=1.58.0,>=1.49.1 in /opt/conda/lib/python3.8/site-packages (from pymilvus==2.3.3) (1.57.0)\n",
      "Requirement already satisfied: protobuf>=3.20.0 in /opt/conda/lib/python3.8/site-packages (from pymilvus==2.3.3) (3.20.0)\n",
      "Requirement already satisfied: environs<=9.5.0 in /opt/conda/lib/python3.8/site-packages (from pymilvus==2.3.3) (9.5.0)\n",
      "Requirement already satisfied: ujson>=2.0.0 in /opt/conda/lib/python3.8/site-packages (from pymilvus==2.3.3) (5.8.0)\n",
      "Requirement already satisfied: pandas>=1.2.4 in /opt/conda/lib/python3.8/site-packages (from pymilvus==2.3.3) (2.0.3)\n",
      "Requirement already satisfied: requests in /opt/conda/lib/python3.8/site-packages (from pymilvus==2.3.3) (2.31.0)\n",
      "Requirement already satisfied: minio>=7.0.0 in /opt/conda/lib/python3.8/site-packages (from pymilvus==2.3.3) (7.2.0)\n",
      "Requirement already satisfied: pyarrow>=12.0.0 in /opt/conda/lib/python3.8/site-packages (from pymilvus==2.3.3) (13.0.0)\n",
      "Requirement already satisfied: numpy<1.25.0 in /opt/conda/lib/python3.8/site-packages (from pymilvus==2.3.3) (1.24.3)\n",
      "Requirement already satisfied: transformers<5.0.0,>=4.6.0 in /opt/conda/lib/python3.8/site-packages (from sentence-transformers) (4.34.1)\n",
      "Requirement already satisfied: tqdm in /opt/conda/lib/python3.8/site-packages (from sentence-transformers) (4.65.0)\n",
      "Requirement already satisfied: torch>=1.6.0 in /opt/conda/lib/python3.8/site-packages (from sentence-transformers) (2.0.1+cu118)\n",
      "Requirement already satisfied: torchvision in /opt/conda/lib/python3.8/site-packages (from sentence-transformers) (0.15.2+cu118)\n",
      "Requirement already satisfied: scikit-learn in /opt/conda/lib/python3.8/site-packages (from sentence-transformers) (1.3.1)\n",
      "Requirement already satisfied: scipy in /opt/conda/lib/python3.8/site-packages (from sentence-transformers) (1.10.1)\n",
      "Requirement already satisfied: nltk in /opt/conda/lib/python3.8/site-packages (from sentence-transformers) (3.8.1)\n",
      "Requirement already satisfied: sentencepiece in /opt/conda/lib/python3.8/site-packages (from sentence-transformers) (0.1.99)\n",
      "Requirement already satisfied: huggingface-hub>=0.4.0 in /opt/conda/lib/python3.8/site-packages (from sentence-transformers) (0.17.3)\n",
      "Requirement already satisfied: marshmallow>=3.0.0 in /opt/conda/lib/python3.8/site-packages (from environs<=9.5.0->pymilvus==2.3.3) (3.20.1)\n",
      "Requirement already satisfied: python-dotenv in /opt/conda/lib/python3.8/site-packages (from environs<=9.5.0->pymilvus==2.3.3) (1.0.0)\n",
      "Requirement already satisfied: filelock in /opt/conda/lib/python3.8/site-packages (from huggingface-hub>=0.4.0->sentence-transformers) (3.12.2)\n",
      "Requirement already satisfied: fsspec in /opt/conda/lib/python3.8/site-packages (from huggingface-hub>=0.4.0->sentence-transformers) (2023.9.2)\n",
      "Requirement already satisfied: pyyaml>=5.1 in /opt/conda/lib/python3.8/site-packages (from huggingface-hub>=0.4.0->sentence-transformers) (6.0.1)\n",
      "Requirement already satisfied: typing-extensions>=3.7.4.3 in /opt/conda/lib/python3.8/site-packages (from huggingface-hub>=0.4.0->sentence-transformers) (4.8.0)\n",
      "Requirement already satisfied: packaging>=20.9 in /opt/conda/lib/python3.8/site-packages (from huggingface-hub>=0.4.0->sentence-transformers) (23.0)\n",
      "Requirement already satisfied: certifi in /opt/conda/lib/python3.8/site-packages (from minio>=7.0.0->pymilvus==2.3.3) (2023.7.22)\n",
      "Requirement already satisfied: urllib3 in /opt/conda/lib/python3.8/site-packages (from minio>=7.0.0->pymilvus==2.3.3) (1.26.16)\n",
      "Requirement already satisfied: argon2-cffi in /opt/conda/lib/python3.8/site-packages (from minio>=7.0.0->pymilvus==2.3.3) (23.1.0)\n",
      "Requirement already satisfied: pycryptodome in /opt/conda/lib/python3.8/site-packages (from minio>=7.0.0->pymilvus==2.3.3) (3.19.0)\n",
      "Requirement already satisfied: python-dateutil>=2.8.2 in /opt/conda/lib/python3.8/site-packages (from pandas>=1.2.4->pymilvus==2.3.3) (2.8.2)\n",
      "Requirement already satisfied: pytz>=2020.1 in /opt/conda/lib/python3.8/site-packages (from pandas>=1.2.4->pymilvus==2.3.3) (2023.3.post1)\n",
      "Requirement already satisfied: tzdata>=2022.1 in /opt/conda/lib/python3.8/site-packages (from pandas>=1.2.4->pymilvus==2.3.3) (2023.3)\n",
      "Requirement already satisfied: sympy in /opt/conda/lib/python3.8/site-packages (from torch>=1.6.0->sentence-transformers) (1.12)\n",
      "Requirement already satisfied: networkx in /opt/conda/lib/python3.8/site-packages (from torch>=1.6.0->sentence-transformers) (2.8.4)\n",
      "Requirement already satisfied: jinja2 in /opt/conda/lib/python3.8/site-packages (from torch>=1.6.0->sentence-transformers) (3.1.2)\n",
      "Requirement already satisfied: triton==2.0.0 in /opt/conda/lib/python3.8/site-packages (from torch>=1.6.0->sentence-transformers) (2.0.0)\n",
      "Requirement already satisfied: cmake in /opt/conda/lib/python3.8/site-packages (from triton==2.0.0->torch>=1.6.0->sentence-transformers) (3.27.2)\n",
      "Requirement already satisfied: lit in /opt/conda/lib/python3.8/site-packages (from triton==2.0.0->torch>=1.6.0->sentence-transformers) (16.0.6)\n",
      "Requirement already satisfied: regex!=2019.12.17 in /opt/conda/lib/python3.8/site-packages (from transformers<5.0.0,>=4.6.0->sentence-transformers) (2023.8.8)\n",
      "Requirement already satisfied: tokenizers<0.15,>=0.14 in /opt/conda/lib/python3.8/site-packages (from transformers<5.0.0,>=4.6.0->sentence-transformers) (0.14.1)\n",
      "Requirement already satisfied: safetensors>=0.3.1 in /opt/conda/lib/python3.8/site-packages (from transformers<5.0.0,>=4.6.0->sentence-transformers) (0.3.3)\n",
      "Requirement already satisfied: click in /opt/conda/lib/python3.8/site-packages (from nltk->sentence-transformers) (8.1.7)\n",
      "Requirement already satisfied: joblib in /opt/conda/lib/python3.8/site-packages (from nltk->sentence-transformers) (1.3.2)\n",
      "Requirement already satisfied: charset-normalizer<4,>=2 in /opt/conda/lib/python3.8/site-packages (from requests->pymilvus==2.3.3) (2.0.4)\n",
      "Requirement already satisfied: idna<4,>=2.5 in /opt/conda/lib/python3.8/site-packages (from requests->pymilvus==2.3.3) (3.4)\n",
      "Requirement already satisfied: threadpoolctl>=2.0.0 in /opt/conda/lib/python3.8/site-packages (from scikit-learn->sentence-transformers) (3.2.0)\n",
      "Requirement already satisfied: pillow!=8.3.*,>=5.3.0 in /opt/conda/lib/python3.8/site-packages (from torchvision->sentence-transformers) (10.0.0)\n",
      "Requirement already satisfied: six>=1.5 in /opt/conda/lib/python3.8/site-packages (from python-dateutil>=2.8.2->pandas>=1.2.4->pymilvus==2.3.3) (1.16.0)\n",
      "Requirement already satisfied: argon2-cffi-bindings in /opt/conda/lib/python3.8/site-packages (from argon2-cffi->minio>=7.0.0->pymilvus==2.3.3) (21.2.0)\n",
      "Requirement already satisfied: MarkupSafe>=2.0 in /opt/conda/lib/python3.8/site-packages (from jinja2->torch>=1.6.0->sentence-transformers) (2.1.3)\n",
      "Requirement already satisfied: mpmath>=0.19 in /opt/conda/lib/python3.8/site-packages (from sympy->torch>=1.6.0->sentence-transformers) (1.3.0)\n",
      "Requirement already satisfied: cffi>=1.0.1 in /opt/conda/lib/python3.8/site-packages (from argon2-cffi-bindings->argon2-cffi->minio>=7.0.0->pymilvus==2.3.3) (1.15.1)\n",
      "Requirement already satisfied: pycparser in /opt/conda/lib/python3.8/site-packages (from cffi>=1.0.1->argon2-cffi-bindings->argon2-cffi->minio>=7.0.0->pymilvus==2.3.3) (2.21)\n",
      "\u001b[33mDEPRECATION: pytorch-lightning 1.7.7 has a non-standard dependency specifier torch>=1.9.*. pip 23.3 will enforce this behaviour change. A possible replacement is to upgrade to a newer version of pytorch-lightning or contact the author to suggest that they release a version with a conforming dependency specifiers. Discussion can be found at https://github.com/pypa/pip/issues/12063\u001b[0m\u001b[33m\n",
      "\u001b[0m\u001b[33mWARNING: Running pip as the 'root' user can result in broken permissions and conflicting behaviour with the system package manager. It is recommended to use a virtual environment instead: https://pip.pypa.io/warnings/venv\u001b[0m\u001b[33m\n",
      "\u001b[0m"
     ]
    }
   ],
   "source": [
    "!pip3 install milvus==2.3.3 pymilvus==2.3.3 sentence-transformers"
   ]
  },
  {
   "cell_type": "code",
   "execution_count": 2,
   "id": "c4589c85-b7bc-40d8-8143-e4f5247e4bfa",
   "metadata": {
    "scrolled": true,
    "tags": []
   },
   "outputs": [],
   "source": [
    "# # # # 优先尝试git clone\n",
    "# # # !git clone https://github.com/Ac-heron/luxun/\n",
    "\n",
    "# # # # 如果git连接不上，手动上传从git上下载的zip，再进行解压\n",
    "# # # !apt-get update\n",
    "# # # !apt-get install unzip\n",
    "# !unzip luxun-master.zip"
   ]
  },
  {
   "cell_type": "code",
   "execution_count": 3,
   "id": "0451c34a-1d87-4b39-aae4-129ccd8d165d",
   "metadata": {
    "ExecutionIndicator": {
     "show": true
    },
    "tags": []
   },
   "outputs": [],
   "source": [
    "# 加载鲁迅全集数据\n",
    "import os\n",
    "\n",
    "# file_path = 'luxun/全集' # git clone后，用这个path\n",
    "file_path = 'luxun-master/全集' # 若是解压zip，用这个path\n",
    "book_names = os.listdir(file_path)\n",
    "\n",
    "data = []\n",
    "\n",
    "for book_name in book_names:\n",
    "    if book_name[0] != '.':\n",
    "        chapter_names = os.listdir(file_path+'/'+book_name)\n",
    "        for chapter_name in chapter_names:\n",
    "            if chapter_name[0] != '.':\n",
    "                with open(file_path+'/'+book_name+'/'+chapter_name, 'r', encoding='utf-8') as f:\n",
    "                    data.append([book_name, chapter_name, f.read()])\n",
    "            "
   ]
  },
  {
   "cell_type": "code",
   "execution_count": 4,
   "id": "a0db8f82-5f6a-4ab7-8ed0-021f0a69e34c",
   "metadata": {},
   "outputs": [
    {
     "name": "stderr",
     "output_type": "stream",
     "text": [
      "2023-12-10 18:08:33,609 - modelscope - INFO - PyTorch version 2.0.1+cu118 Found.\n",
      "2023-12-10 18:08:33,612 - modelscope - INFO - TensorFlow version 2.13.0 Found.\n",
      "2023-12-10 18:08:33,613 - modelscope - INFO - Loading ast index from /mnt/workspace/.cache/modelscope/ast_indexer\n",
      "2023-12-10 18:08:33,657 - modelscope - INFO - Loading done! Current index file version is 1.9.5, with md5 569b36a1f8cf6226713a963a2d3762a4 and a total number of 945 components indexed\n",
      "/opt/conda/lib/python3.8/site-packages/tqdm/auto.py:21: TqdmWarning: IProgress not found. Please update jupyter and ipywidgets. See https://ipywidgets.readthedocs.io/en/stable/user_install.html\n",
      "  from .autonotebook import tqdm as notebook_tqdm\n",
      "2023-12-10 18:08:35,104 - modelscope - WARNING - Model revision not specified, use revision: v0.0.1\n"
     ]
    }
   ],
   "source": [
    "# 从ms上下载bge模型\n",
    "from modelscope import snapshot_download\n",
    "from sentence_transformers import SentenceTransformer\n",
    "\n",
    "model_path = snapshot_download('Xorbits/bge-large-zh-v1.5', cache_dir='bge')\n",
    "model = SentenceTransformer(model_path)\n",
    "\n",
    "retrieval_instruction = \"为这个句子生成表示以用于检索相关文章：\""
   ]
  },
  {
   "cell_type": "code",
   "execution_count": 5,
   "id": "56958120-a31f-4c00-9e84-e4d7831eb23d",
   "metadata": {
    "ExecutionIndicator": {
     "show": true
    },
    "tags": []
   },
   "outputs": [],
   "source": [
    "# 使用milvus构建向量引擎\n",
    "from milvus import default_server\n",
    "from pymilvus import connections, utility, FieldSchema, CollectionSchema, DataType, Collection\n",
    "\n",
    " # milvus-lite用法（无需docker安装，方便在jupyter环境下使用）\n",
    "default_server.set_base_dir('milvus_data')\n",
    "default_server.cleanup()\n",
    "default_server.start()\n",
    "      \n",
    "# connect to a server\n",
    "connections.connect(host='127.0.0.1', port=default_server.listen_port)"
   ]
  },
  {
   "cell_type": "code",
   "execution_count": 6,
   "id": "f63dd54f-c723-4c06-89cb-21a00c24bd98",
   "metadata": {
    "ExecutionIndicator": {
     "show": true
    },
    "tags": []
   },
   "outputs": [],
   "source": [
    "# milvus - create a collection\n",
    "fields = [\n",
    "FieldSchema(name=\"pk\", dtype=DataType.INT64, is_primary=True, auto_id=False),\n",
    "FieldSchema(name=\"book\", dtype=DataType.VARCHAR, max_length=200),\n",
    "FieldSchema(name=\"chapter\", dtype=DataType.VARCHAR, max_length=200),\n",
    "FieldSchema(name=\"passage\", dtype=DataType.VARCHAR, max_length=4096),\n",
    "FieldSchema(name=\"passage_embedding\", dtype=DataType.FLOAT_VECTOR, dim=1024) # small 512 base 768 large 1024\n",
    "]\n",
    "schema = CollectionSchema(fields = fields, description = \"luxun collection\")\n",
    "luxun_milvus= Collection(name = \"luxun\", schema = schema)"
   ]
  },
  {
   "cell_type": "code",
   "execution_count": 7,
   "id": "3fd405ff-d4ad-488e-bfd0-99da5334f135",
   "metadata": {
    "ExecutionIndicator": {
     "show": true
    },
    "tags": []
   },
   "outputs": [],
   "source": [
    "# passage切分函数\n",
    "import re\n",
    "\n",
    "def prune_text(text):\n",
    "    \n",
    "    if len(text) > 0 and '〔' == text[0]:\n",
    "        return ''\n",
    "    \n",
    "    if len(text) > 3 and '```' == text[:3]:\n",
    "        return ''\n",
    "                                \n",
    "    text = re.sub(r'〔.〕', '', text)\n",
    "    text = re.sub(r'[\\n\\t\\u3000]', '', text)\n",
    "    text = re.sub(r' ', '', text)\n",
    "    return text\n",
    "\n",
    "def parse_luxun(text, max_len=1024):\n",
    "    passages = text.split('\\n\\u3000\\u3000')\n",
    "    passages = [prune_text(passage) for passage in passages]\n",
    "    passages = [passage[:max_len] for passage in passages if len(passage) >= 10]\n",
    "    return passages\n",
    "    "
   ]
  },
  {
   "cell_type": "code",
   "execution_count": 8,
   "id": "90000ad7-47e5-468e-a645-9698fa3c7c9a",
   "metadata": {
    "ExecutionIndicator": {
     "show": true
    },
    "tags": []
   },
   "outputs": [
    {
     "name": "stderr",
     "output_type": "stream",
     "text": [
      "100%|██████████| 309/309 [02:48<00:00,  1.84it/s]\n"
     ]
    }
   ],
   "source": [
    "# milvus - insert entities into collection\n",
    "from tqdm import tqdm\n",
    "row1, row2, row3, row4, row5 = [], [], [], [], []\n",
    "index = 0\n",
    "for d_i in tqdm(range(len(data))):\n",
    "    d = data[d_i]\n",
    "    book_name = d[0]\n",
    "    chapter_name = d[1][:-3]\n",
    "    for p_i, passage in enumerate(parse_luxun(d[2])):\n",
    "        # print(f'{book_name}-{chapter_name}-passage{p_i+1}:{passage}')\n",
    "        embedding = model.encode(passage, normalize_embeddings=True)\n",
    "        row1.append(index)\n",
    "        row2.append(book_name)\n",
    "        row3.append(chapter_name)\n",
    "        row4.append(passage)\n",
    "        row5.append(embedding)\n",
    "        index += 1\n",
    "\n",
    "insert_result = luxun_milvus.insert([row1, row2, row3, row4, row5])\n",
    "# After final entity is inserted, it is best to call flush to have no growing segments left in memory\n",
    "luxun_milvus.flush()  "
   ]
  },
  {
   "cell_type": "code",
   "execution_count": 9,
   "id": "eff54f2a-23ba-4b48-a5a0-51e7f5b4a0fc",
   "metadata": {
    "tags": []
   },
   "outputs": [
    {
     "data": {
      "text/plain": [
       "Status(code=0, message=)"
      ]
     },
     "execution_count": 9,
     "metadata": {},
     "output_type": "execute_result"
    }
   ],
   "source": [
    "# milvus - build index of entities\n",
    "index = {\n",
    "\"index_type\": \"FLAT\",\n",
    "\"metric_type\": \"IP\",\n",
    "}\n",
    "luxun_milvus.create_index(\"passage_embedding\", index)"
   ]
  },
  {
   "cell_type": "code",
   "execution_count": 41,
   "id": "21ea20c3-6765-4cb7-96e5-5832f9cf88e9",
   "metadata": {
    "ExecutionIndicator": {
     "show": true
    },
    "tags": []
   },
   "outputs": [],
   "source": [
    "# milvus - Loads the collection to memory and performs a vector similarity search\n",
    "luxun_milvus.load()\n",
    "\n",
    "def retrieval(query):\n",
    "    q_emb = model.encode(retrieval_instruction+query, normalize_embeddings=True)\n",
    "    search_params = {\n",
    "        \"metric_type\": \"IP\",\n",
    "    }\n",
    "    result = luxun_milvus.search([q_emb], \"passage_embedding\", search_params, limit=10, output_fields=[\"pk\", \"book\", \"chapter\", \"passage\"])\n",
    "    return result"
   ]
  },
  {
   "cell_type": "code",
   "execution_count": 55,
   "id": "f7ff8867-f07a-4bf4-816a-b05c0434e2e4",
   "metadata": {
    "ExecutionIndicator": {
     "show": true
    },
    "tags": []
   },
   "outputs": [
    {
     "name": "stdout",
     "output_type": "stream",
     "text": [
      "query:中国文化问题\n",
      "\n",
      "top-1\n",
      "华盖集续编-马上支日记\n",
      "中国人总不肯研究自己。从小说来看民族性，也就是一个好题目。此外，则道士思想（不是道教，是方士）与历史上大事件的关系，在现今社会上的势力；孔教徒怎样使“圣道”变得和自己的无所不为相宜；战国游士说动人主的所谓“利”“害”是怎样的，和现今的政客有无不同；中国从古到今有多少文字狱；历来“流言”的制造散布法和效验等等……\n",
      "\n",
      "top-2\n",
      "热风-三十八\n",
      "中国人向来有点自大。——只可惜没有“个人的自大”，都是“合群的爱国的自大”。这便是文化竞争失败之后，不能再见振拔改进的原因。\n",
      "\n",
      "top-3\n",
      "三闲集-现今的新文学的概观\n",
      "中国的文化，便是怎样的爱国者，恐怕也大概不能不承认是有些落后。新的事物，都是从外面侵入的。新的势力来到了，大多数的人们还是莫名其妙。北平还不到这样，譬如上海租界，那情形，外国人是处在中央，那外面，围着一群翻译，包探，巡捕，西崽……之类，是懂得外国话，熟悉租界章程的。这一圈之外，才是许多老百姓。\n",
      "\n",
      "top-4\n",
      "而已集-当陶元庆君的绘画展览时\n",
      "中国现今的一部份人，确是很有些苦闷。我想，这是古国的青年的迟暮之感。世界的时代思潮早已六面袭来，而自己还拘禁在三千年陈的桎梏里。于是觉醒，挣扎，反叛，要出而参与世界的事业--我要范围说得小一点：文艺之业。倘使中国之在世界上不算在错，则这样的情形我以为也是对的。\n",
      "\n",
      "top-5\n",
      "而已集-略谈香港\n",
      "若夫“香江”（案：盖香港之雅称）之于国粹，则确是正在大振兴而特振兴。如六月二十五日《循环日报》“昨日下午督宪府茶会”条下，就说：“（上略）赖济熙太史即席演说，略谓大学堂汉文专科异常重要，中国旧道德与乎国粹所关，皆不容缓视，若不贯彻进行，深为可惜，（中略）周寿臣爵士亦演说汉文之宜见重于当世，及汉文科学之重要，关系国家与个人之荣辱等语，后督宪以华语演说，略谓华人若不通汉文为第一可惜，若以华人而中英文皆通达，此后中英感情必更融洽，故大学汉文一科，非常重要，未可以等闲视之云云。（下略）”\n",
      "\n",
      "top-6\n",
      "坟-论睁了眼看\n",
      "中国的文人，对于人生，——至少是对于社会现象，向来就多没有正视的勇气。我们的圣贤，本来早已教人“非礼勿视”的了；而这“礼”又非常之严，不但“正视”，连“平视”“斜视”也不许。现在青年的精神未可知，在体质，却大半还是弯腰曲背，低眉顺眼，表示着老牌的老成的子弟，驯良的百姓，——至于说对外却有大力量，乃是近一月来的新说，还不知道究竟是如何。\n",
      "\n",
      "top-7\n",
      "华盖集-忽然想到2\n",
      "中国废止读经了，教会学校不是还请腐儒做先生，教学生读“四书”么？民国废去跪拜了，犹太学校〔17〕不是偏请遗老做先生，要学生磕头拜寿么？外国人办给中国人看的报纸，不是最反对五四以来的小改革么？而外国总主笔治下的中国小主笔，则倒是崇拜道学〔18〕，保存国粹的！\n",
      "\n",
      "top-8\n",
      "华盖集-评心雕龙\n",
      "酉这实在“唉”得不行！中国之所以这样“世风日下”，就是他说了“唉”的缘故。但是诸位在这里，我不妨明说，三十年前，我也曾经“唉”过的，我何尝是木石，我实在是开风气之先〔10〕。后来我觉得流弊太多了，便绝口不谈此事，并且深恶而痛绝之。并且到了今年，深悟读经之可以救国，并且深信白话文之应该废除。但是我并不说中国应该守旧……。\n",
      "\n",
      "top-9\n",
      "而已集-略谈香港\n",
      "这是明明白白，叫我们想想汉族繁荣时代，和现状比较一下，看是如何，--必须“光复旧物”。说得露骨些，就是“排满”；推而广之，就是“排外”。不料二十年后，竟变成在香港大学保存国粹，而使“中外感情，自然更加浓浃”的标语了。我实在想不到这四句“集《文选》句”，竟也会被外国人所引用。\n",
      "\n",
      "top-10\n",
      "华盖集-忽然想到3\n",
      "请先生不要用普通的眼光看中国。我的一个朋友从印度回来，说，那地方真古怪，每当自己走过恒河边，就觉得还要防被捉去杀掉而祭天〔19〕。我在中国也时时起这一类的恐惧。普通认为romantic〔20〕的，在中国是平常事；机关枪不装在土谷祠〔21〕外，还装到那里去呢？\n",
      "\n"
     ]
    }
   ],
   "source": [
    "# 执行搜索测试\n",
    "query = '中国文化问题'\n",
    "print(f'query:{query}\\n')\n",
    "\n",
    "res = retrieval(query)\n",
    "\n",
    "for hits in res:\n",
    "    for i, hit in enumerate(hits):\n",
    "        print(f'top-{i+1}')\n",
    "        print(f'''{hit.entity.get('book')}-{hit.entity.get('chapter')}''')\n",
    "        print(hit.entity.get('passage'))\n",
    "        print()"
   ]
  },
  {
   "cell_type": "code",
   "execution_count": 54,
   "id": "1dc126d6-be5e-4e95-89fd-379b5cda6286",
   "metadata": {},
   "outputs": [],
   "source": [
    "# 关闭milvus服务\n",
    "default_server.stop()"
   ]
  },
  {
   "cell_type": "code",
   "execution_count": null,
   "id": "79ba0fc9-17b7-4398-affa-bb2e644d4c97",
   "metadata": {},
   "outputs": [],
   "source": []
  },
  {
   "cell_type": "code",
   "execution_count": null,
   "id": "95533535-b07a-4b96-a032-110c643e388d",
   "metadata": {},
   "outputs": [],
   "source": []
  }
 ],
 "metadata": {
  "kernelspec": {
   "display_name": "Python 3 (ipykernel)",
   "language": "python",
   "name": "python3"
  },
  "language_info": {
   "codemirror_mode": {
    "name": "ipython",
    "version": 3
   },
   "file_extension": ".py",
   "mimetype": "text/x-python",
   "name": "python",
   "nbconvert_exporter": "python",
   "pygments_lexer": "ipython3",
   "version": "3.8.16"
  }
 },
 "nbformat": 4,
 "nbformat_minor": 5
}
